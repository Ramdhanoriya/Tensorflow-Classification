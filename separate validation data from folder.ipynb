{
 "cells": [
  {
   "cell_type": "markdown",
   "metadata": {},
   "source": [
    "# Separate Validation Data from Folder\n",
    "- training data / validation data가 폴더로 구분되어 있을 경우 분리\n",
    "- train_labels, validation_labels로 분리"
   ]
  },
  {
   "cell_type": "code",
   "execution_count": 1,
   "metadata": {
    "collapsed": true
   },
   "outputs": [],
   "source": [
    "def read_labeled_image_list_from_csv(image_list_file):\n",
    "    \"\"\"Reads a .csv file containing pathes and labeles\n",
    "    Args:\n",
    "       image_list_file: a .txt file with one /path/to/image per line\n",
    "       label: optionally, if set label will be pasted after each line\n",
    "    Returns:\n",
    "       List with all filenames in file image_list_file\n",
    "    \"\"\"\n",
    "    f = open(image_list_file, 'r')\n",
    "    filenames = []\n",
    "    labels = []\n",
    "    except_title = False\n",
    "    for line in f:\n",
    "        #print(line)\n",
    "        if except_title:\n",
    "            filename, label = line[:-1].split(',')\n",
    "            filename = filename\n",
    "            filenames.append(filename)\n",
    "            labels.append(int(label))\n",
    "        if except_title == False:\n",
    "            except_title = True\n",
    "            \n",
    "    return filenames, labels"
   ]
  },
  {
   "cell_type": "markdown",
   "metadata": {},
   "source": [
    "- folder info 읽어오기"
   ]
  },
  {
   "cell_type": "code",
   "execution_count": 2,
   "metadata": {
    "collapsed": false
   },
   "outputs": [],
   "source": [
    "import os\n",
    "classes = os.listdir(\"../Mushroom\")"
   ]
  },
  {
   "cell_type": "code",
   "execution_count": 3,
   "metadata": {
    "collapsed": false
   },
   "outputs": [
    {
     "name": "stdout",
     "output_type": "stream",
     "text": [
      "['01_oyster mushroom', '02_Sarcodon aspratus', '03_matsutake mushroom', '04_shiitake mushroom', '05_Ramaria botrytis Ricken', '06_Macrolepiota procera Sing', '07_Boletopsis leucomelas', '08_Hygrophorus russula', '09_Neolentinus lepideus', '10_Phellinus linteus']\n"
     ]
    }
   ],
   "source": [
    "print(classes)"
   ]
  },
  {
   "cell_type": "code",
   "execution_count": 4,
   "metadata": {
    "collapsed": false
   },
   "outputs": [],
   "source": [
    "data_list = []\n",
    "label_list = []\n",
    "for idx, cls in enumerate(classes):\n",
    "    file = os.listdir(\"../Mushroom/\" + cls)\n",
    "    for fname in file:\n",
    "        ext = os.path.splitext(file)[1]\n",
    "        if ext == '.jpg':\n",
    "            data_list.append(fname)\n",
    "            label_list.append(idx)"
   ]
  },
  {
   "cell_type": "markdown",
   "metadata": {},
   "source": [
    "- label_list에서 class별 index 추출"
   ]
  },
  {
   "cell_type": "code",
   "execution_count": 5,
   "metadata": {
    "collapsed": false
   },
   "outputs": [
    {
     "data": {
      "text/plain": [
       "'01_oyster mushroom'"
      ]
     },
     "execution_count": 5,
     "metadata": {},
     "output_type": "execute_result"
    }
   ],
   "source": [
    "list(classes)[0]"
   ]
  },
  {
   "cell_type": "code",
   "execution_count": 6,
   "metadata": {
    "collapsed": false
   },
   "outputs": [],
   "source": [
    "classesDataIdx = [[] for i in range(len(classes))]\n",
    "for idx, val in enumerate(label_list):\n",
    "    for i in range(len(classes)):\n",
    "        if val == i:\n",
    "            classesDataIdx[i].append(idx)"
   ]
  },
  {
   "cell_type": "markdown",
   "metadata": {},
   "source": [
    "- 데이터 중 20%를 validation데이터로 추출"
   ]
  },
  {
   "cell_type": "code",
   "execution_count": 7,
   "metadata": {
    "collapsed": false
   },
   "outputs": [],
   "source": [
    "import random\n",
    "validationDataIdx = [[] for i in range(len(classes))]\n",
    "\n",
    "for i in range(len(classes)):\n",
    "    validationDataIdx[i] = random.sample(classesDataIdx[i], int(len(classesDataIdx[i])*0.2))\n",
    "    validationDataIdx[i].sort()"
   ]
  },
  {
   "cell_type": "markdown",
   "metadata": {},
   "source": [
    "- validation을 제외한 데이터를 train데이터로 추출"
   ]
  },
  {
   "cell_type": "code",
   "execution_count": 8,
   "metadata": {
    "collapsed": false
   },
   "outputs": [],
   "source": [
    "trainDataIdx = [[] for i in range(len(classes))]\n",
    "\n",
    "for i in range(len(classes)):\n",
    "    trainDataIdx[i] = tuple(x for x in classesDataIdx[i] if x not in set(validationDataIdx[i]))"
   ]
  },
  {
   "cell_type": "markdown",
   "metadata": {},
   "source": [
    "- file 다시 옮기기"
   ]
  },
  {
   "cell_type": "code",
   "execution_count": 9,
   "metadata": {
    "collapsed": false
   },
   "outputs": [
    {
     "data": {
      "text/plain": [
       "['01_oyster mushroom',\n",
       " '02_Sarcodon aspratus',\n",
       " '03_matsutake mushroom',\n",
       " '04_shiitake mushroom',\n",
       " '05_Ramaria botrytis Ricken',\n",
       " '06_Macrolepiota procera Sing',\n",
       " '07_Boletopsis leucomelas',\n",
       " '08_Hygrophorus russula',\n",
       " '09_Neolentinus lepideus',\n",
       " '10_Phellinus linteus']"
      ]
     },
     "execution_count": 9,
     "metadata": {},
     "output_type": "execute_result"
    }
   ],
   "source": [
    "classes"
   ]
  },
  {
   "cell_type": "code",
   "execution_count": 10,
   "metadata": {
    "collapsed": false
   },
   "outputs": [],
   "source": [
    "import os\n",
    "import shutil\n",
    "directory_train = '../Mushroom/data/validation'\n",
    "if not os.path.exists(directory_train):\n",
    "    os.makedirs(directory_train)\n",
    "    \n",
    "for i in range(len(classes)):\n",
    "    for idx in validationDataIdx[i]:\n",
    "        shutil.copy('../Mushroom/' + classes[i] + '/' + data_list[idx], '../Mushroom/data/validation/' + data_list[idx])"
   ]
  },
  {
   "cell_type": "code",
   "execution_count": 11,
   "metadata": {
    "collapsed": false
   },
   "outputs": [],
   "source": [
    "import os\n",
    "directory_validation = '../Mushroom/data/train'\n",
    "if not os.path.exists(directory_validation):\n",
    "    os.makedirs(directory_validation)\n",
    "    \n",
    "for i in range(len(classes)):\n",
    "    for idx in trainDataIdx[i]:\n",
    "        shutil.copy('../Mushroom/' + classes[i] + '/' + data_list[idx], '../Mushroom/data/train/' + data_list[idx])"
   ]
  },
  {
   "cell_type": "markdown",
   "metadata": {},
   "source": [
    "- csv 파일 재작성"
   ]
  },
  {
   "cell_type": "code",
   "execution_count": 12,
   "metadata": {
    "collapsed": false
   },
   "outputs": [],
   "source": [
    "import csv\n",
    "with open('../Mushroom/data/validation_labels.csv', 'w', newline='') as csvfile:\n",
    "    writer = csv.writer(csvfile, delimiter=',')\n",
    "    #writer.writerow(['name', 'invasive'])\n",
    "    for i in range(len(classes)):\n",
    "        for idx in validationDataIdx[i]:\n",
    "            # writer.writerow([data_list[idx], list(classes)[i]])\n",
    "            writer.writerow([data_list[idx], i])\n",
    "        \n",
    "with open('../Mushroom/data/train_labels.csv', 'w', newline='') as csvfile:\n",
    "    writer = csv.writer(csvfile, delimiter=',')\n",
    "    #writer.writerow(['name', 'invasive'])\n",
    "    for i in range(len(classes)):\n",
    "        for idx in trainDataIdx[i]:\n",
    "            # writer.writerow([data_list[idx], list(classes)[i]])\n",
    "            writer.writerow([data_list[idx], i])"
   ]
  },
  {
   "cell_type": "code",
   "execution_count": null,
   "metadata": {
    "collapsed": true
   },
   "outputs": [],
   "source": []
  }
 ],
 "metadata": {
  "anaconda-cloud": {},
  "kernelspec": {
   "display_name": "Python [default]",
   "language": "python",
   "name": "python3"
  },
  "language_info": {
   "codemirror_mode": {
    "name": "ipython",
    "version": 3
   },
   "file_extension": ".py",
   "mimetype": "text/x-python",
   "name": "python",
   "nbconvert_exporter": "python",
   "pygments_lexer": "ipython3",
   "version": "3.5.2"
  }
 },
 "nbformat": 4,
 "nbformat_minor": 1
}
