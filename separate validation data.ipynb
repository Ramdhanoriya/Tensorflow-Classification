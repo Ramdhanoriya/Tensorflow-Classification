{
 "cells": [
  {
   "cell_type": "markdown",
   "metadata": {},
   "source": [
    "# Separate Validation Data\n",
    "- training data / validation data가 한 파일(csv or txt)에 있을 경우 분리\n",
    "- train_labels, validation_labels로 분리"
   ]
  },
  {
   "cell_type": "code",
   "execution_count": 1,
   "metadata": {
    "collapsed": true
   },
   "outputs": [],
   "source": [
    "def read_labeled_image_list_from_csv(image_list_file):\n",
    "    \"\"\"Reads a .csv file containing pathes and labeles\n",
    "    Args:\n",
    "       image_list_file: a .txt file with one /path/to/image per line\n",
    "       label: optionally, if set label will be pasted after each line\n",
    "    Returns:\n",
    "       List with all filenames in file image_list_file\n",
    "    \"\"\"\n",
    "    f = open(image_list_file, 'r')\n",
    "    filenames = []\n",
    "    labels = []\n",
    "    except_title = False\n",
    "    for line in f:\n",
    "        #print(line)\n",
    "        if except_title:\n",
    "            filename, label = line[:-1].split(',')\n",
    "            filename = filename\n",
    "            filenames.append(filename)\n",
    "            labels.append(int(label))\n",
    "        if except_title == False:\n",
    "            except_title = True\n",
    "            \n",
    "    return filenames, labels"
   ]
  },
  {
   "cell_type": "markdown",
   "metadata": {},
   "source": [
    "- csv 파일 및 image 파일 path 읽어오기"
   ]
  },
  {
   "cell_type": "code",
   "execution_count": 2,
   "metadata": {
    "collapsed": true
   },
   "outputs": [],
   "source": [
    "filename = '../Species/train_labels.csv'\n",
    "\n",
    "# Reads pfathes of images together with their labels\n",
    "data_list, label_list = read_labeled_image_list_from_csv(filename)"
   ]
  },
  {
   "cell_type": "code",
   "execution_count": 3,
   "metadata": {
    "collapsed": false
   },
   "outputs": [],
   "source": [
    "classes = set(label_list)"
   ]
  },
  {
   "cell_type": "markdown",
   "metadata": {},
   "source": [
    "- label_list에서 class별 index 추출"
   ]
  },
  {
   "cell_type": "code",
   "execution_count": 4,
   "metadata": {
    "collapsed": false
   },
   "outputs": [],
   "source": [
    "classesDataIdx = [[] for i in range(len(classes))]\n",
    "for idx, val in enumerate(label_list):\n",
    "    for i in range(len(classes)):\n",
    "        if val == list(classes)[i]:\n",
    "            classesDataIdx[i].append(idx)"
   ]
  },
  {
   "cell_type": "markdown",
   "metadata": {},
   "source": [
    "- 데이터 중 20%를 validation데이터로 추출"
   ]
  },
  {
   "cell_type": "code",
   "execution_count": 5,
   "metadata": {
    "collapsed": false
   },
   "outputs": [],
   "source": [
    "import random\n",
    "validationDataIdx = [[] for i in range(len(classes))]\n",
    "\n",
    "for i in range(len(classes)):\n",
    "    validationDataIdx[i] = random.sample(classesDataIdx[i], int(len(classesDataIdx[i])*0.2))\n",
    "    validationDataIdx[i].sort()"
   ]
  },
  {
   "cell_type": "markdown",
   "metadata": {},
   "source": [
    "- validation을 제외한 데이터를 train데이터로 추출"
   ]
  },
  {
   "cell_type": "code",
   "execution_count": 6,
   "metadata": {
    "collapsed": false
   },
   "outputs": [],
   "source": [
    "trainDataIdx = [[] for i in range(len(classes))]\n",
    "\n",
    "for i in range(len(classes)):\n",
    "    trainDataIdx[i] = tuple(x for x in classesDataIdx[i] if x not in set(validationDataIdx[i]))"
   ]
  },
  {
   "cell_type": "markdown",
   "metadata": {},
   "source": [
    "- file 다시 옮기기"
   ]
  },
  {
   "cell_type": "code",
   "execution_count": 7,
   "metadata": {
    "collapsed": false
   },
   "outputs": [],
   "source": [
    "import os\n",
    "import shutil\n",
    "directory_train = '../Species/data/validation'\n",
    "if not os.path.exists(directory_train):\n",
    "    os.makedirs(directory_train)\n",
    "    \n",
    "for i in range(len(classes)):\n",
    "    for idx in validationDataIdx[i]:\n",
    "        shutil.copy('../Species/train/' + data_list[idx] + '.jpg', '../Species/data/validation/' + data_list[idx] + '.jpg')"
   ]
  },
  {
   "cell_type": "code",
   "execution_count": 8,
   "metadata": {
    "collapsed": false
   },
   "outputs": [],
   "source": [
    "import os\n",
    "directory_validation = '../Species/data/train'\n",
    "if not os.path.exists(directory_validation):\n",
    "    os.makedirs(directory_validation)\n",
    "    \n",
    "for i in range(len(classes)):\n",
    "    for idx in trainDataIdx[i]:\n",
    "        shutil.copy('../Species/train/' + data_list[idx] + '.jpg', '../Species/data/train/' + data_list[idx] + '.jpg')"
   ]
  },
  {
   "cell_type": "markdown",
   "metadata": {},
   "source": [
    "- csv 파일 재작성"
   ]
  },
  {
   "cell_type": "code",
   "execution_count": 9,
   "metadata": {
    "collapsed": false
   },
   "outputs": [],
   "source": [
    "import csv\n",
    "with open('../Species/data/validation_labels.csv', 'w', newline='') as csvfile:\n",
    "    writer = csv.writer(csvfile, delimiter=',')\n",
    "    #writer.writerow(['name', 'invasive'])\n",
    "    for i in range(len(classes)):\n",
    "        for idx in validationDataIdx[i]:\n",
    "            writer.writerow([data_list[idx], list(classes)[i]])\n",
    "        \n",
    "with open('../Species/data/train_labels.csv', 'w', newline='') as csvfile:\n",
    "    writer = csv.writer(csvfile, delimiter=',')\n",
    "    #writer.writerow(['name', 'invasive'])\n",
    "    for i in range(len(classes)):\n",
    "        for idx in trainDataIdx[i]:\n",
    "            writer.writerow([data_list[idx], list(classes)[i]])"
   ]
  }
 ],
 "metadata": {
  "anaconda-cloud": {},
  "kernelspec": {
   "display_name": "Python [default]",
   "language": "python",
   "name": "python3"
  },
  "language_info": {
   "codemirror_mode": {
    "name": "ipython",
    "version": 3
   },
   "file_extension": ".py",
   "mimetype": "text/x-python",
   "name": "python",
   "nbconvert_exporter": "python",
   "pygments_lexer": "ipython3",
   "version": "3.5.2"
  }
 },
 "nbformat": 4,
 "nbformat_minor": 1
}
