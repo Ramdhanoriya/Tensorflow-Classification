{
 "cells": [
  {
   "cell_type": "code",
   "execution_count": 1,
   "metadata": {
    "collapsed": true
   },
   "outputs": [],
   "source": [
    "def read_labeled_image_list_from_text(image_list_file):\n",
    "    \"\"\"Reads a .txt file containing pathes and labeles\n",
    "    Args:\n",
    "       image_list_file: a .txt file with one /path/to/image per line\n",
    "       label: optionally, if set label will be pasted after each line\n",
    "    Returns:\n",
    "       List with all filenames in file image_list_file\n",
    "    \"\"\"\n",
    "    f = open(image_list_file, 'r')\n",
    "    filenames = []\n",
    "    labels = []\n",
    "    for line in f:\n",
    "        filename, label = line[:-1].split(' ')\n",
    "        filenames.append(filename)\n",
    "        labels.append(int(label))\n",
    "        print(filename, label)\n",
    "    return filenames, labels"
   ]
  },
  {
   "cell_type": "code",
   "execution_count": 2,
   "metadata": {
    "collapsed": true
   },
   "outputs": [],
   "source": [
    "def read_images_from_disk(input_queue):\n",
    "    \"\"\"Consumes a single filename and label as a ' '-delimited string.\n",
    "    Args:\n",
    "      filename_and_label_tensor: A scalar string tensor.\n",
    "    Returns:\n",
    "      Two tensors: the decoded image, and the string label.\n",
    "    \"\"\"\n",
    "    label = input_queue[1]\n",
    "    file_contents = tf.read_file(input_queue[0])\n",
    "    example = tf.image.decode_png(file_contents, channels=3)\n",
    "    return example, label"
   ]
  },
  {
   "cell_type": "code",
   "execution_count": 3,
   "metadata": {
    "collapsed": false
   },
   "outputs": [],
   "source": [
    "def read_labeled_image_list_from_csv(image_list_file, path, image_format):\n",
    "    \"\"\"Reads a .csv file containing pathes and labeles\n",
    "    Args:\n",
    "       image_list_file: a .txt file with one /path/to/image per line\n",
    "       label: optionally, if set label will be pasted after each line\n",
    "    Returns:\n",
    "       List with all filenames in file image_list_file\n",
    "    \"\"\"\n",
    "    f = open(image_list_file, 'r')\n",
    "    filenames = []\n",
    "    labels = []\n",
    "    except_title = False\n",
    "    for line in f:\n",
    "        #print(line)\n",
    "        if except_title:\n",
    "            filename, label = line[:-1].split(',')\n",
    "            filename = path + filename + '.' + image_format\n",
    "            filenames.append(filename)\n",
    "            labels.append(int(label))\n",
    "        if except_title == False:\n",
    "            except_title = True\n",
    "            \n",
    "    return filenames, labels"
   ]
  },
  {
   "cell_type": "code",
   "execution_count": 4,
   "metadata": {
    "collapsed": true
   },
   "outputs": [],
   "source": [
    "def preprocess_image(image):\n",
    "    preprocessed_image = tf.image.resize_images(images=image, size=[256, 256])\n",
    "    return preprocessed_image"
   ]
  },
  {
   "cell_type": "code",
   "execution_count": 5,
   "metadata": {
    "collapsed": false
   },
   "outputs": [],
   "source": [
    "import tensorflow as tf\n",
    "\n",
    "filename = '../Species/train_labels.csv'\n",
    "num_epochs = 10000\n",
    "batch_size = 32\n",
    "\n",
    "# Reads pfathes of images together with their labels\n",
    "image_list, label_list = read_labeled_image_list_from_csv(filename,'../Species/train/' ,'jpg')\n",
    "\n",
    "images = tf.convert_to_tensor(image_list, dtype=tf.string)\n",
    "labels = tf.convert_to_tensor(label_list, dtype=tf.int32)\n",
    "\n",
    "# Makes an input queue\n",
    "input_queue = tf.train.slice_input_producer(tensor_list=[images, labels],\n",
    "                                            num_epochs=num_epochs,\n",
    "                                            shuffle=True)\n",
    "\n",
    "image, label = read_images_from_disk(input_queue)\n",
    "\n",
    "# Optional Preprocessing or Data Augmentation\n",
    "# tf.image implements most of the standard image augmentation\n",
    "image = preprocess_image(image)\n",
    "#label = preprocess_label(label)\n",
    "\n",
    "# Optional Image and Label Batching\n",
    "image_batch, label_batch = tf.train.batch([image, label],\n",
    "                                          batch_size=batch_size)"
   ]
  },
  {
   "cell_type": "code",
   "execution_count": null,
   "metadata": {
    "collapsed": true
   },
   "outputs": [],
   "source": []
  }
 ],
 "metadata": {
  "anaconda-cloud": {},
  "kernelspec": {
   "display_name": "Python [default]",
   "language": "python",
   "name": "python3"
  },
  "language_info": {
   "codemirror_mode": {
    "name": "ipython",
    "version": 3
   },
   "file_extension": ".py",
   "mimetype": "text/x-python",
   "name": "python",
   "nbconvert_exporter": "python",
   "pygments_lexer": "ipython3",
   "version": "3.5.2"
  }
 },
 "nbformat": 4,
 "nbformat_minor": 1
}
